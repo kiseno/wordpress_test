{
 "cells": [
  {
   "cell_type": "code",
   "execution_count": 17,
   "metadata": {},
   "outputs": [],
   "source": [
    "import lightgbm as lgb\n",
    "from sklearn.model_selection import train_test_split,KFold,cross_validate\n",
    "import sklearn.datasets\n",
    "import optuna "
   ]
  },
  {
   "cell_type": "code",
   "execution_count": 20,
   "metadata": {},
   "outputs": [],
   "source": [
    "def objectives(trial):\n",
    "    # scikit-learnでお試しデータの準備\n",
    "    boston = sklearn.datasets.load_boston()\n",
    "    X_train, X_test, y_train, y_test = train_test_split(boston.data, boston.target, random_state=0)\n",
    "\n",
    "    # optunaでのハイパーパラメータサーチ範囲の設定\n",
    "    params = {\n",
    "        #fixed\n",
    "        'boosting_type':'gbdt',\n",
    "        'max_depth':-1,\n",
    "        'learning_rate':0.1,\n",
    "        'n_estimators': 1000,\n",
    "        'metric':'l2',\n",
    "\n",
    "        #variable\n",
    "        'num_leaves': trial.suggest_int('num_leaves', 10, 300),\n",
    "        'reg_alpha': trial.suggest_loguniform('reg_alpha',0.001, 10),\n",
    "        'reg_lambda':trial.suggest_loguniform('reg_lambda', 0.001, 10),\n",
    "\n",
    "    }\n",
    "\n",
    "    # LightGBMで学習+予測\n",
    "    model = lgb.LGBMRegressor(**params,random_state=0)# 追加部分\n",
    "    \n",
    "    # kFold交差検定で決定係数を算出し、各セットの平均値を返す\n",
    "    kf = KFold(n_splits=3, shuffle=True, random_state=0)\n",
    "    scores = cross_validate(model, X=X_train, y=y_train,scoring='r2',cv=kf)   \n",
    "\n",
    "    return scores['test_score'].mean()"
   ]
  },
  {
   "cell_type": "code",
   "execution_count": 23,
   "metadata": {},
   "outputs": [
    {
     "name": "stderr",
     "output_type": "stream",
     "text": [
      "[I 2019-11-17 21:26:11,525] Finished trial#0 resulted in value: 0.8777692421511626. Current best value is 0.8777692421511626 with parameters: {'num_leaves': 48, 'reg_alpha': 0.02841795034878006, 'reg_lambda': 0.02699956507604085}.\n",
      "[I 2019-11-17 21:26:12,234] Finished trial#1 resulted in value: 0.8772753774771155. Current best value is 0.8777692421511626 with parameters: {'num_leaves': 48, 'reg_alpha': 0.02841795034878006, 'reg_lambda': 0.02699956507604085}.\n",
      "[I 2019-11-17 21:26:12,892] Finished trial#2 resulted in value: 0.8781465260185032. Current best value is 0.8781465260185032 with parameters: {'num_leaves': 38, 'reg_alpha': 0.2613680772014017, 'reg_lambda': 0.0349231330790776}.\n",
      "[I 2019-11-17 21:26:13,231] Finished trial#3 resulted in value: 0.8735889819375333. Current best value is 0.8781465260185032 with parameters: {'num_leaves': 38, 'reg_alpha': 0.2613680772014017, 'reg_lambda': 0.0349231330790776}.\n",
      "[I 2019-11-17 21:26:13,526] Finished trial#4 resulted in value: 0.8743146940310887. Current best value is 0.8781465260185032 with parameters: {'num_leaves': 38, 'reg_alpha': 0.2613680772014017, 'reg_lambda': 0.0349231330790776}.\n"
     ]
    },
    {
     "name": "stdout",
     "output_type": "stream",
     "text": [
      "最終トライアル回数: 5\n",
      "ベストトライアル:\n",
      "値: 0.8781465260185032\n",
      "パラメータ:\n",
      "num_leaves: 38\n",
      "reg_alpha: 0.2613680772014017\n",
      "reg_lambda: 0.0349231330790776\n",
      "Wall time: 2.77 s\n"
     ]
    }
   ],
   "source": [
    "%%time\n",
    "\n",
    "# optunaによる最適化呼び出し\n",
    "opt = optuna.create_study(direction='maximize')\n",
    "opt.optimize(objectives, n_trials=5)\n",
    "\n",
    "\n",
    "# 実行結果表示\n",
    "print('最終トライアル回数: {}'.format(len(opt.trials)))\n",
    "print('ベストトライアル:')\n",
    "trial = opt.best_trial\n",
    "print('値: {}'.format(trial.value))\n",
    "print('パラメータ:')\n",
    "for key, value in trial.params.items():\n",
    "    print('{}: {}'.format(key, value))"
   ]
  },
  {
   "cell_type": "code",
   "execution_count": null,
   "metadata": {},
   "outputs": [],
   "source": []
  },
  {
   "cell_type": "code",
   "execution_count": null,
   "metadata": {},
   "outputs": [],
   "source": []
  },
  {
   "cell_type": "code",
   "execution_count": null,
   "metadata": {},
   "outputs": [],
   "source": []
  },
  {
   "cell_type": "code",
   "execution_count": null,
   "metadata": {},
   "outputs": [],
   "source": []
  },
  {
   "cell_type": "code",
   "execution_count": null,
   "metadata": {},
   "outputs": [],
   "source": []
  },
  {
   "cell_type": "code",
   "execution_count": null,
   "metadata": {},
   "outputs": [],
   "source": []
  }
 ],
 "metadata": {
  "kernelspec": {
   "display_name": "Python 3",
   "language": "python",
   "name": "python3"
  },
  "language_info": {
   "codemirror_mode": {
    "name": "ipython",
    "version": 3
   },
   "file_extension": ".py",
   "mimetype": "text/x-python",
   "name": "python",
   "nbconvert_exporter": "python",
   "pygments_lexer": "ipython3",
   "version": "3.7.5"
  }
 },
 "nbformat": 4,
 "nbformat_minor": 4
}
